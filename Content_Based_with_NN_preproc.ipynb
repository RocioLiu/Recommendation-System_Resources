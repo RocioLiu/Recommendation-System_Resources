{
 "cells": [
  {
   "cell_type": "markdown",
   "metadata": {},
   "source": [
    "## Create datasets for the Content-based Filter\n",
    "\n",
    "This notebook builds the data we will use for creating our content based model. We'll collect the data via a collection of SQL queries from the publicly available Kurier.at dataset in BigQuery.\n",
    "Kurier.at is an Austrian newsite. The goal of these labs is to recommend an article for a visitor to the site. In this lab we collect the data for training, in the subsequent notebook we train the recommender model. \n",
    "\n",
    "This notebook illustrates\n",
    "* how to pull data from BigQuery table and write to local files\n",
    "* how to make reproducible train and test splits "
   ]
  },
  {
   "cell_type": "code",
   "execution_count": 1,
   "metadata": {},
   "outputs": [],
   "source": [
    "import os\n",
    "import tensorflow as tf\n",
    "import numpy as np\n",
    "from google.cloud import bigquery \n",
    "\n",
    "PROJECT = 'cloud-training-demos' # REPLACE WITH YOUR PROJECT ID\n",
    "BUCKET = 'cloud-training-demos-ml' # REPLACE WITH YOUR BUCKET NAME\n",
    "REGION = 'us-central1' # REPLACE WITH YOUR BUCKET REGION e.g. us-central1\n",
    "\n",
    "# do not change these\n",
    "os.environ['PROJECT'] = PROJECT\n",
    "os.environ['BUCKET'] = BUCKET\n",
    "os.environ['REGION'] = REGION\n",
    "os.environ['TFVERSION'] = '2.1'"
   ]
  },
  {
   "cell_type": "code",
   "execution_count": 2,
   "metadata": {},
   "outputs": [
    {
     "name": "stderr",
     "output_type": "stream",
     "text": [
      "Updated property [core/project].\n",
      "WARNING: You do not appear to have access to project [cloud-training-demos] or it does not exist.\n",
      "Updated property [compute/region].\n",
      "WARNING: Property validation for compute/region was skipped.\n"
     ]
    }
   ],
   "source": [
    "%%bash\n",
    "gcloud  config  set project $PROJECT\n",
    "gcloud config set compute/region $REGION"
   ]
  },
  {
   "cell_type": "markdown",
   "metadata": {},
   "source": [
    "We will use this helper function to write lists containing article ids, categories, and authors for each article in our database to local file. "
   ]
  },
  {
   "cell_type": "code",
   "execution_count": 3,
   "metadata": {},
   "outputs": [],
   "source": [
    "def write_list_to_disk(my_list, filename):\n",
    "  with open(filename, 'w') as f:\n",
    "    for item in my_list:\n",
    "        line = \"%s\\n\" % item\n",
    "        f.write(line)"
   ]
  },
  {
   "cell_type": "markdown",
   "metadata": {},
   "source": [
    "### Pull data from BigQuery\n",
    "\n",
    "The cell below creates a local text file containing all the article ids (i.e. 'content ids') in the dataset. \n",
    "\n",
    "Have a look at the original dataset in [BigQuery](https://console.cloud.google.com/bigquery?p=cloud-training-demos&d=GA360_test&t=ga_sessions_sample). Then read through the query below and make sure you understand what it is doing. "
   ]
  },
  {
   "cell_type": "code",
   "execution_count": 5,
   "metadata": {},
   "outputs": [
    {
     "name": "stdout",
     "output_type": "stream",
     "text": [
      "Some sample content IDs ['299965853', '299972248', '299410466']\n",
      "The total number of articles is 15634\n"
     ]
    }
   ],
   "source": [
    "sql=\"\"\"\n",
    "#standardSQL\n",
    "\n",
    "SELECT  \n",
    "  (SELECT MAX(IF(index=10, value, NULL)) FROM UNNEST(hits.customDimensions)) AS content_id \n",
    "FROM `cloud-training-demos.GA360_test.ga_sessions_sample`,   \n",
    "  UNNEST(hits) AS hits\n",
    "WHERE \n",
    "  # only include hits on pages\n",
    "  hits.type = \"PAGE\"\n",
    "  AND (SELECT MAX(IF(index=10, value, NULL)) FROM UNNEST(hits.customDimensions)) IS NOT NULL\n",
    "GROUP BY\n",
    "  content_id\n",
    "  \n",
    "\"\"\"\n",
    "\n",
    "content_ids_list = bigquery.Client().query(sql).to_dataframe()['content_id'].tolist()\n",
    "write_list_to_disk(content_ids_list, \"content_ids.txt\")\n",
    "print(\"Some sample content IDs {}\".format(content_ids_list[:3]))\n",
    "print(\"The total number of articles is {}\".format(len(content_ids_list)))"
   ]
  },
  {
   "cell_type": "markdown",
   "metadata": {},
   "source": [
    "There should be 15,634 articles in the database.  \n",
    "Next, we'll create a local file which contains a list of article categories and a list of article authors.\n",
    "\n",
    "Note the change in the index when pulling the article category or author information. Also, we are using the first author of the article to create our author list.  \n",
    "Refer back to the original dataset, use the `hits.customDimensions.index` field to verify the correct index.\t "
   ]
  },
  {
   "cell_type": "code",
   "execution_count": 6,
   "metadata": {},
   "outputs": [
    {
     "name": "stdout",
     "output_type": "stream",
     "text": [
      "['Stars & Kultur', 'News', 'Lifestyle']\n"
     ]
    }
   ],
   "source": [
    "sql=\"\"\"\n",
    "#standardSQL\n",
    "SELECT  \n",
    "  (SELECT MAX(IF(index=7, value, NULL)) FROM UNNEST(hits.customDimensions)) AS category  \n",
    "FROM `cloud-training-demos.GA360_test.ga_sessions_sample`,   \n",
    "  UNNEST(hits) AS hits\n",
    "WHERE \n",
    "  # only include hits on pages\n",
    "  hits.type = \"PAGE\"\n",
    "  AND (SELECT MAX(IF(index=7, value, NULL)) FROM UNNEST(hits.customDimensions)) IS NOT NULL\n",
    "GROUP BY   \n",
    "  category\n",
    "\"\"\"\n",
    "categories_list = bigquery.Client().query(sql).to_dataframe()['category'].tolist()\n",
    "write_list_to_disk(categories_list, \"categories.txt\")\n",
    "print(categories_list)"
   ]
  },
  {
   "cell_type": "markdown",
   "metadata": {},
   "source": [
    "The categories are 'News', 'Stars & Kultur', and 'Lifestyle'.  \n",
    "When creating the author list, we'll only use the first author information for each article.  "
   ]
  },
  {
   "cell_type": "code",
   "execution_count": 7,
   "metadata": {},
   "outputs": [
    {
     "name": "stdout",
     "output_type": "stream",
     "text": [
      "Some sample authors ['Marlene Patsalidis', 'Yvonne Widler', 'Thomas  Trescher', 'Johanna Hager', 'Elisabeth Spitzer', 'Daniela Wahl', 'Stefan Berndl', 'Heinz Wagner', 'Brigitte Schokarth', 'Mathias Kainz']\n",
      "The total number of authors is 385\n"
     ]
    }
   ],
   "source": [
    "sql=\"\"\"\n",
    "#standardSQL\n",
    "SELECT\n",
    "  REGEXP_EXTRACT((SELECT MAX(IF(index=2, value, NULL)) FROM UNNEST(hits.customDimensions)), r\"^[^,]+\")  AS first_author  \n",
    "FROM `cloud-training-demos.GA360_test.ga_sessions_sample`,   \n",
    "  UNNEST(hits) AS hits\n",
    "WHERE \n",
    "  # only include hits on pages\n",
    "  hits.type = \"PAGE\"\n",
    "  AND (SELECT MAX(IF(index=2, value, NULL)) FROM UNNEST(hits.customDimensions)) IS NOT NULL\n",
    "GROUP BY   \n",
    "  first_author\n",
    "\"\"\"\n",
    "authors_list = bigquery.Client().query(sql).to_dataframe()['first_author'].tolist()\n",
    "write_list_to_disk(authors_list, \"authors.txt\")\n",
    "print(\"Some sample authors {}\".format(authors_list[:10]))\n",
    "print(\"The total number of authors is {}\".format(len(authors_list)))"
   ]
  },
  {
   "cell_type": "markdown",
   "metadata": {},
   "source": [
    "There should be 385 authors in the database. "
   ]
  },
  {
   "cell_type": "markdown",
   "metadata": {},
   "source": [
    "### Create train and test sets.\n",
    "\n",
    "In this section, we will create the train/test split of our data for training our model. We use the concatenated values for visitor id and content id to create a farm fingerprint, taking approximately 90% of the data for the training set and 10% for the test set."
   ]
  },
  {
   "cell_type": "code",
   "execution_count": 8,
   "metadata": {},
   "outputs": [
    {
     "data": {
      "text/html": [
       "<div>\n",
       "<style scoped>\n",
       "    .dataframe tbody tr th:only-of-type {\n",
       "        vertical-align: middle;\n",
       "    }\n",
       "\n",
       "    .dataframe tbody tr th {\n",
       "        vertical-align: top;\n",
       "    }\n",
       "\n",
       "    .dataframe thead th {\n",
       "        text-align: right;\n",
       "    }\n",
       "</style>\n",
       "<table border=\"1\" class=\"dataframe\">\n",
       "  <thead>\n",
       "    <tr style=\"text-align: right;\">\n",
       "      <th></th>\n",
       "      <th>visitor_id</th>\n",
       "      <th>content_id</th>\n",
       "      <th>category</th>\n",
       "      <th>title</th>\n",
       "      <th>author</th>\n",
       "      <th>months_since_epoch</th>\n",
       "      <th>next_content_id</th>\n",
       "    </tr>\n",
       "  </thead>\n",
       "  <tbody>\n",
       "    <tr>\n",
       "      <th>0</th>\n",
       "      <td>1000593816586876859</td>\n",
       "      <td>230814320</td>\n",
       "      <td>Stars &amp; Kultur</td>\n",
       "      <td>Kritik an Meghan Markle immer lauter</td>\n",
       "      <td>Elisabeth Spitzer</td>\n",
       "      <td>562</td>\n",
       "      <td>299837992</td>\n",
       "    </tr>\n",
       "    <tr>\n",
       "      <th>1</th>\n",
       "      <td>1034638038059436418</td>\n",
       "      <td>299695026</td>\n",
       "      <td>News</td>\n",
       "      <td>Die größten Baustellen des Bundesheers</td>\n",
       "      <td>Johannes Weichhart</td>\n",
       "      <td>574</td>\n",
       "      <td>299695026</td>\n",
       "    </tr>\n",
       "    <tr>\n",
       "      <th>2</th>\n",
       "      <td>1034638038059436418</td>\n",
       "      <td>299695026</td>\n",
       "      <td>News</td>\n",
       "      <td>Die größten Baustellen des Bundesheers</td>\n",
       "      <td>Johannes Weichhart</td>\n",
       "      <td>574</td>\n",
       "      <td>299922662</td>\n",
       "    </tr>\n",
       "    <tr>\n",
       "      <th>3</th>\n",
       "      <td>1034638038059436418</td>\n",
       "      <td>299695026</td>\n",
       "      <td>News</td>\n",
       "      <td>Die größten Baustellen des Bundesheers</td>\n",
       "      <td>Johannes Weichhart</td>\n",
       "      <td>574</td>\n",
       "      <td>299914430</td>\n",
       "    </tr>\n",
       "    <tr>\n",
       "      <th>4</th>\n",
       "      <td>1034638038059436418</td>\n",
       "      <td>299914430</td>\n",
       "      <td>News</td>\n",
       "      <td>Snowboard: Gasser-Verzicht auf Start bei Big A...</td>\n",
       "      <td>Mirad Odobasic</td>\n",
       "      <td>574</td>\n",
       "      <td>299695026</td>\n",
       "    </tr>\n",
       "  </tbody>\n",
       "</table>\n",
       "</div>"
      ],
      "text/plain": [
       "            visitor_id content_id        category  \\\n",
       "0  1000593816586876859  230814320  Stars & Kultur   \n",
       "1  1034638038059436418  299695026            News   \n",
       "2  1034638038059436418  299695026            News   \n",
       "3  1034638038059436418  299695026            News   \n",
       "4  1034638038059436418  299914430            News   \n",
       "\n",
       "                                               title              author  \\\n",
       "0               Kritik an Meghan Markle immer lauter   Elisabeth Spitzer   \n",
       "1             Die größten Baustellen des Bundesheers  Johannes Weichhart   \n",
       "2             Die größten Baustellen des Bundesheers  Johannes Weichhart   \n",
       "3             Die größten Baustellen des Bundesheers  Johannes Weichhart   \n",
       "4  Snowboard: Gasser-Verzicht auf Start bei Big A...      Mirad Odobasic   \n",
       "\n",
       "   months_since_epoch next_content_id  \n",
       "0                 562       299837992  \n",
       "1                 574       299695026  \n",
       "2                 574       299922662  \n",
       "3                 574       299914430  \n",
       "4                 574       299695026  "
      ]
     },
     "execution_count": 8,
     "metadata": {},
     "output_type": "execute_result"
    }
   ],
   "source": [
    "sql=\"\"\"\n",
    "WITH site_history as (\n",
    "  SELECT\n",
    "      fullVisitorId as visitor_id,\n",
    "      (SELECT MAX(IF(index=10, value, NULL)) FROM UNNEST(hits.customDimensions)) AS content_id,\n",
    "      (SELECT MAX(IF(index=7, value, NULL)) FROM UNNEST(hits.customDimensions)) AS category, \n",
    "      (SELECT MAX(IF(index=6, value, NULL)) FROM UNNEST(hits.customDimensions)) AS title,\n",
    "      (SELECT MAX(IF(index=2, value, NULL)) FROM UNNEST(hits.customDimensions)) AS author_list,\n",
    "      SPLIT(RPAD((SELECT MAX(IF(index=4, value, NULL)) FROM UNNEST(hits.customDimensions)), 7), '.') as year_month_array,\n",
    "      LEAD(hits.customDimensions, 1) OVER (PARTITION BY fullVisitorId ORDER BY hits.time ASC) as nextCustomDimensions\n",
    "  FROM \n",
    "    `cloud-training-demos.GA360_test.ga_sessions_sample`,   \n",
    "     UNNEST(hits) AS hits\n",
    "   WHERE \n",
    "     # only include hits on pages\n",
    "      hits.type = \"PAGE\"\n",
    "      AND\n",
    "      fullVisitorId IS NOT NULL\n",
    "      AND\n",
    "      hits.time != 0\n",
    "      AND\n",
    "      hits.time IS NOT NULL\n",
    "      AND\n",
    "      (SELECT MAX(IF(index=10, value, NULL)) FROM UNNEST(hits.customDimensions)) IS NOT NULL\n",
    ")\n",
    "SELECT\n",
    "  visitor_id,\n",
    "  content_id,\n",
    "  category,\n",
    "  REGEXP_REPLACE(title, r\",\", \"\") as title,\n",
    "  REGEXP_EXTRACT(author_list, r\"^[^,]+\") as author,\n",
    "  DATE_DIFF(DATE(CAST(year_month_array[OFFSET(0)] AS INT64), CAST(year_month_array[OFFSET(1)] AS INT64), 1), DATE(1970,1,1), MONTH) as months_since_epoch,\n",
    "  (SELECT MAX(IF(index=10, value, NULL)) FROM UNNEST(nextCustomDimensions)) as next_content_id\n",
    "FROM\n",
    "  site_history\n",
    "WHERE (SELECT MAX(IF(index=10, value, NULL)) FROM UNNEST(nextCustomDimensions)) IS NOT NULL\n",
    "      AND ABS(MOD(FARM_FINGERPRINT(CONCAT(visitor_id, content_id)), 10)) < 9\n",
    "\"\"\"\n",
    "training_set_df = bigquery.Client().query(sql).to_dataframe()\n",
    "training_set_df.to_csv('training_set.csv', header=False, index=False, encoding='utf-8')\n",
    "training_set_df.head()"
   ]
  },
  {
   "cell_type": "code",
   "execution_count": 9,
   "metadata": {},
   "outputs": [
    {
     "data": {
      "text/html": [
       "<div>\n",
       "<style scoped>\n",
       "    .dataframe tbody tr th:only-of-type {\n",
       "        vertical-align: middle;\n",
       "    }\n",
       "\n",
       "    .dataframe tbody tr th {\n",
       "        vertical-align: top;\n",
       "    }\n",
       "\n",
       "    .dataframe thead th {\n",
       "        text-align: right;\n",
       "    }\n",
       "</style>\n",
       "<table border=\"1\" class=\"dataframe\">\n",
       "  <thead>\n",
       "    <tr style=\"text-align: right;\">\n",
       "      <th></th>\n",
       "      <th>visitor_id</th>\n",
       "      <th>content_id</th>\n",
       "      <th>category</th>\n",
       "      <th>title</th>\n",
       "      <th>author</th>\n",
       "      <th>months_since_epoch</th>\n",
       "      <th>next_content_id</th>\n",
       "    </tr>\n",
       "  </thead>\n",
       "  <tbody>\n",
       "    <tr>\n",
       "      <th>0</th>\n",
       "      <td>1221481987438094805</td>\n",
       "      <td>299126648</td>\n",
       "      <td>Lifestyle</td>\n",
       "      <td>Sesam Vanille Quinoa: Hätten Sie diese Lebensm...</td>\n",
       "      <td>Laila Daneshmandi</td>\n",
       "      <td>574</td>\n",
       "      <td>299903877</td>\n",
       "    </tr>\n",
       "    <tr>\n",
       "      <th>1</th>\n",
       "      <td>1258807538168267513</td>\n",
       "      <td>299222010</td>\n",
       "      <td>News</td>\n",
       "      <td>Werdenigg: \"Das hätte Schröcksnadel wissen müs...</td>\n",
       "      <td>None</td>\n",
       "      <td>574</td>\n",
       "      <td>299120900</td>\n",
       "    </tr>\n",
       "    <tr>\n",
       "      <th>2</th>\n",
       "      <td>1258807538168267513</td>\n",
       "      <td>299222010</td>\n",
       "      <td>News</td>\n",
       "      <td>Werdenigg: \"Das hätte Schröcksnadel wissen müs...</td>\n",
       "      <td>None</td>\n",
       "      <td>574</td>\n",
       "      <td>299120900</td>\n",
       "    </tr>\n",
       "    <tr>\n",
       "      <th>3</th>\n",
       "      <td>128398658711100748</td>\n",
       "      <td>299783950</td>\n",
       "      <td>News</td>\n",
       "      <td>Fußball deutsche Bundesliga: Köln-Vize Schumac...</td>\n",
       "      <td>Mirad Odobasic</td>\n",
       "      <td>574</td>\n",
       "      <td>299821418</td>\n",
       "    </tr>\n",
       "    <tr>\n",
       "      <th>4</th>\n",
       "      <td>1529736287125049515</td>\n",
       "      <td>299772450</td>\n",
       "      <td>Stars &amp; Kultur</td>\n",
       "      <td>Kritik an Prinz Harry: \"Ein verzogener Rotzlöf...</td>\n",
       "      <td>Elisabeth Spitzer</td>\n",
       "      <td>574</td>\n",
       "      <td>299837992</td>\n",
       "    </tr>\n",
       "  </tbody>\n",
       "</table>\n",
       "</div>"
      ],
      "text/plain": [
       "            visitor_id content_id        category  \\\n",
       "0  1221481987438094805  299126648       Lifestyle   \n",
       "1  1258807538168267513  299222010            News   \n",
       "2  1258807538168267513  299222010            News   \n",
       "3   128398658711100748  299783950            News   \n",
       "4  1529736287125049515  299772450  Stars & Kultur   \n",
       "\n",
       "                                               title             author  \\\n",
       "0  Sesam Vanille Quinoa: Hätten Sie diese Lebensm...  Laila Daneshmandi   \n",
       "1  Werdenigg: \"Das hätte Schröcksnadel wissen müs...               None   \n",
       "2  Werdenigg: \"Das hätte Schröcksnadel wissen müs...               None   \n",
       "3  Fußball deutsche Bundesliga: Köln-Vize Schumac...     Mirad Odobasic   \n",
       "4  Kritik an Prinz Harry: \"Ein verzogener Rotzlöf...  Elisabeth Spitzer   \n",
       "\n",
       "   months_since_epoch next_content_id  \n",
       "0                 574       299903877  \n",
       "1                 574       299120900  \n",
       "2                 574       299120900  \n",
       "3                 574       299821418  \n",
       "4                 574       299837992  "
      ]
     },
     "execution_count": 9,
     "metadata": {},
     "output_type": "execute_result"
    }
   ],
   "source": [
    "sql=\"\"\"\n",
    "WITH site_history as (\n",
    "  SELECT\n",
    "      fullVisitorId as visitor_id,\n",
    "      (SELECT MAX(IF(index=10, value, NULL)) FROM UNNEST(hits.customDimensions)) AS content_id,\n",
    "      (SELECT MAX(IF(index=7, value, NULL)) FROM UNNEST(hits.customDimensions)) AS category, \n",
    "      (SELECT MAX(IF(index=6, value, NULL)) FROM UNNEST(hits.customDimensions)) AS title,\n",
    "      (SELECT MAX(IF(index=2, value, NULL)) FROM UNNEST(hits.customDimensions)) AS author_list,\n",
    "      SPLIT(RPAD((SELECT MAX(IF(index=4, value, NULL)) FROM UNNEST(hits.customDimensions)), 7), '.') as year_month_array,\n",
    "      LEAD(hits.customDimensions, 1) OVER (PARTITION BY fullVisitorId ORDER BY hits.time ASC) as nextCustomDimensions\n",
    "  FROM \n",
    "    `cloud-training-demos.GA360_test.ga_sessions_sample`,   \n",
    "     UNNEST(hits) AS hits\n",
    "   WHERE \n",
    "     # only include hits on pages\n",
    "      hits.type = \"PAGE\"\n",
    "      AND\n",
    "      fullVisitorId IS NOT NULL\n",
    "      AND\n",
    "      hits.time != 0\n",
    "      AND\n",
    "      hits.time IS NOT NULL\n",
    "      AND\n",
    "      (SELECT MAX(IF(index=10, value, NULL)) FROM UNNEST(hits.customDimensions)) IS NOT NULL\n",
    ")\n",
    "SELECT\n",
    "  visitor_id,\n",
    "  content_id,\n",
    "  category,\n",
    "  REGEXP_REPLACE(title, r\",\", \"\") as title,\n",
    "  REGEXP_EXTRACT(author_list, r\"^[^,]+\") as author,\n",
    "  DATE_DIFF(DATE(CAST(year_month_array[OFFSET(0)] AS INT64), CAST(year_month_array[OFFSET(1)] AS INT64), 1), DATE(1970,1,1), MONTH) as months_since_epoch,\n",
    "  (SELECT MAX(IF(index=10, value, NULL)) FROM UNNEST(nextCustomDimensions)) as next_content_id\n",
    "FROM\n",
    "  site_history\n",
    "WHERE (SELECT MAX(IF(index=10, value, NULL)) FROM UNNEST(nextCustomDimensions)) IS NOT NULL\n",
    "      AND ABS(MOD(FARM_FINGERPRINT(CONCAT(visitor_id, content_id)), 10)) >= 9\n",
    "\"\"\"\n",
    "test_set_df = bigquery.Client().query(sql).to_dataframe()\n",
    "test_set_df.to_csv('test_set.csv', header=False, index=False, encoding='utf-8')\n",
    "test_set_df.head()"
   ]
  },
  {
   "cell_type": "markdown",
   "metadata": {},
   "source": [
    "Let's have a look at the two csv files we just created containing the training and test set. We'll also do a line count of both files to confirm that we have achieved an approximate 90/10 train/test split.  \n",
    "In the next notebook, **Content Based Filtering** we will build a model to recommend an article given information about the current article being read, such as the category, title, author, and publish date. "
   ]
  },
  {
   "cell_type": "code",
   "execution_count": 10,
   "metadata": {},
   "outputs": [
    {
     "name": "stdout",
     "output_type": "stream",
     "text": [
      "   25599 test_set.csv\n",
      "  232308 training_set.csv\n",
      "  257907 total\n"
     ]
    }
   ],
   "source": [
    "%%bash\n",
    "wc -l *_set.csv"
   ]
  },
  {
   "cell_type": "code",
   "execution_count": 11,
   "metadata": {},
   "outputs": [
    {
     "name": "stdout",
     "output_type": "stream",
     "text": [
      "==> test_set.csv <==\n",
      "1221481987438094805,299126648,Lifestyle,Sesam Vanille Quinoa: Hätten Sie diese Lebensmittel in der Natur erkannt?,Laila Daneshmandi,574,299903877\n",
      "1258807538168267513,299222010,News,\"Werdenigg: \"\"Das hätte Schröcksnadel wissen müssen\"\"\",,574,299120900\n",
      "1258807538168267513,299222010,News,\"Werdenigg: \"\"Das hätte Schröcksnadel wissen müssen\"\"\",,574,299120900\n",
      "128398658711100748,299783950,News,Fußball deutsche Bundesliga: Köln-Vize Schumacher bestätigt: Stöger bleibt vorerst,Mirad Odobasic,574,299821418\n",
      "1529736287125049515,299772450,Stars & Kultur,\"Kritik an Prinz Harry: \"\"Ein verzogener Rotzlöffel\"\"\",Elisabeth Spitzer,574,299837992\n",
      "1538502633181128309,299775313,Stars & Kultur,\"Alexander Newley Sohn von Joan Collins: \"\"Mein Vater war ein Pädophiler\"\"\",Christina Michlits,574,299804319\n",
      "1683406497508704833,299792812,News,Bundesliga: Kein Videobeweis beim Schlager Rapid-Salzburg,,574,299853016\n",
      "1721313573939068530,299918253,News,Ringen: Iraner musste verlieren um Duell mit Israeli zu vermeiden,Mirad Odobasic,574,299809746\n",
      "1970175622712894133,299170525,News,\"\"\"Horror-Hans\"\" lebte elf Wochen im Wald\",Elisabeth Holzer,574,298886601\n",
      "2237262892787107753,299975649,News,Großbritannien als Vorreiter: Viagra künftig rezeptfrei erhältlich,Stefan Berndl,574,299958897\n",
      "\n",
      "==> training_set.csv <==\n",
      "1000593816586876859,230814320,Stars & Kultur,Kritik an Meghan Markle immer lauter,Elisabeth Spitzer,562,299837992\n",
      "1034638038059436418,299695026,News,Die größten Baustellen des Bundesheers,Johannes Weichhart,574,299695026\n",
      "1034638038059436418,299695026,News,Die größten Baustellen des Bundesheers,Johannes Weichhart,574,299922662\n",
      "1034638038059436418,299695026,News,Die größten Baustellen des Bundesheers,Johannes Weichhart,574,299914430\n",
      "1034638038059436418,299914430,News,Snowboard: Gasser-Verzicht auf Start bei Big Air in Mönchengladbach,Mirad Odobasic,574,299695026\n",
      "1034638038059436418,299695026,News,Die größten Baustellen des Bundesheers,Johannes Weichhart,574,299917726\n",
      "1039519062197675738,298888038,News,Investment kann jetzt jeder!,,574,299836255\n",
      "1039519062197675738,295820907,,Alternatives Backen - vegan laktosefrei glutenfrei,,574,299836841\n",
      "1063300399237999097,299798977,News,Postler als Geisterfahrer in der Rettungsgasse unterwegs,Thomas Sendlhofer,574,299799049\n",
      "1063300399237999097,299799049,News,Höchste Vulkan-Warnstufe: Rund 550 österreichische Touristen auf Bali,Daniela Wahl,574,299836800\n"
     ]
    }
   ],
   "source": [
    "!head *_set.csv"
   ]
  },
  {
   "cell_type": "code",
   "execution_count": null,
   "metadata": {},
   "outputs": [],
   "source": []
  }
 ],
 "metadata": {
  "environment": {
   "kernel": "python3",
   "name": "tf2-gpu.2-7.m84",
   "type": "gcloud",
   "uri": "gcr.io/deeplearning-platform-release/tf2-gpu.2-7:m84"
  },
  "kernelspec": {
   "display_name": "Python 3",
   "language": "python",
   "name": "python3"
  },
  "language_info": {
   "codemirror_mode": {
    "name": "ipython",
    "version": 3
   },
   "file_extension": ".py",
   "mimetype": "text/x-python",
   "name": "python",
   "nbconvert_exporter": "python",
   "pygments_lexer": "ipython3",
   "version": "3.7.12"
  }
 },
 "nbformat": 4,
 "nbformat_minor": 4
}
